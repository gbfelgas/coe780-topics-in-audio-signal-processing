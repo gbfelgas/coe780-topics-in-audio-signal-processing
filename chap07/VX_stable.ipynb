{
 "cells": [
  {
   "cell_type": "code",
   "execution_count": 1,
   "id": "fd18a8a4",
   "metadata": {},
   "outputs": [],
   "source": [
    "import numpy as np\n",
    "import matplotlib.pyplot as plt\n",
    "import soundfile as sf\n",
    "from scipy import signal"
   ]
  },
  {
   "cell_type": "code",
   "execution_count": 2,
   "id": "79ead462",
   "metadata": {},
   "outputs": [],
   "source": [
    "test = 0.1\n",
    "na = 256        # analysis step\n",
    "ns = na         # synthesis step\n",
    "s_win = 2048    # window length\n",
    "DAFx_in, FS = sf.read('audios/redwheel.wav')"
   ]
  },
  {
   "cell_type": "code",
   "execution_count": 3,
   "id": "a0fb643a",
   "metadata": {},
   "outputs": [],
   "source": [
    "def princarg(phase_in: float):\n",
    "    return (phase_in + np.pi) % (-2 * np.pi) + np.pi"
   ]
  },
  {
   "cell_type": "code",
   "execution_count": 4,
   "id": "0ce9a318",
   "metadata": {},
   "outputs": [],
   "source": [
    "wa = signal.windows.hann(s_win, sym=False) # analysis window\n",
    "ws = wa                                    # synthesis window\n",
    "L = len(DAFx_in)\n",
    "\n",
    "DAFx_in = np.pad(DAFx_in, (s_win, s_win - (L % na)), 'constant') / np.max(np.abs(DAFx_in))\n",
    "DAFx_out = np.zeros(len(DAFx_in))\n",
    "\n",
    "devcent = 2 * np.pi * na / s_win\n",
    "vtest = test * devcent\n",
    "grain = np.zeros(s_win)\n",
    "theta1 = np.zeros(s_win)\n",
    "theta2 = np.zeros(s_win)"
   ]
  },
  {
   "cell_type": "code",
   "execution_count": 5,
   "id": "bf677679",
   "metadata": {},
   "outputs": [],
   "source": [
    "pin = 0\n",
    "pout = 0\n",
    "pend = len(DAFx_in) - s_win\n",
    "\n",
    "while (pin < pend):\n",
    "    grain = DAFx_in[pin:(pin + s_win)] * wa\n",
    "    f = np.fft.fft(np.fft.fftshift(grain))\n",
    "    \n",
    "    theta = np.angle(f)\n",
    "    dev = princarg(theta - 2*theta1 + theta2);\n",
    "    ft = f * (np.abs(dev) < vtest)\n",
    "    grain  = np.fft.fftshift(np.real(np.fft.ifft(ft))) * ws\n",
    "    theta2 = theta1\n",
    "    theta1 = theta\n",
    "    \n",
    "    DAFx_out[pout:(pout + s_win)] += grain\n",
    "    \n",
    "    pin  = pin + na\n",
    "    pout = pout + ns"
   ]
  },
  {
   "cell_type": "code",
   "execution_count": 6,
   "id": "ae9f567e",
   "metadata": {},
   "outputs": [
    {
     "name": "stdout",
     "output_type": "stream",
     "text": [
      "(109589,)\n"
     ]
    }
   ],
   "source": [
    "DAFx_out = DAFx_out[s_win:(s_win + L)] * np.max(np.abs(DAFx_in))/ np.max(np.abs(DAFx_out))\n",
    "print(DAFx_out.shape)\n",
    "sf.write('audios/redwheel_stable.wav', DAFx_out, FS)"
   ]
  },
  {
   "cell_type": "code",
   "execution_count": 7,
   "id": "fe301dbf",
   "metadata": {},
   "outputs": [
    {
     "data": {
      "image/png": "[encoded data removed]",
      "text/plain": [
       "<Figure size 864x360 with 1 Axes>"
      ]
     },
     "metadata": {
      "needs_background": "light"
     },
     "output_type": "display_data"
    }
   ],
   "source": [
    "plt.figure(figsize=(12, 5))\n",
    "plt.subplot(121)\n",
    "plt.plot(DAFx_in)\n",
    "# plt.subplot(122)\n",
    "plt.plot(DAFx_out)\n",
    "plt.tight_layout()"
   ]
  }
 ],
 "metadata": {
  "kernelspec": {
   "display_name": "Python 3 (ipykernel)",
   "language": "python",
   "name": "python3"
  },
  "language_info": {
   "codemirror_mode": {
    "name": "ipython",
    "version": 3
   },
   "file_extension": ".py",
   "mimetype": "text/x-python",
   "name": "python",
   "nbconvert_exporter": "python",
   "pygments_lexer": "ipython3",
   "version": "3.9.7"
  }
 },
 "nbformat": 4,
 "nbformat_minor": 5
}
