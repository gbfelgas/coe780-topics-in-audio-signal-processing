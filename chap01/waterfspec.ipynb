{
 "cells": [
  {
   "cell_type": "code",
   "execution_count": 6,
   "metadata": {},
   "outputs": [],
   "source": [
    "# Authors: J. Schattschneider, U. Z ̈olzer\n",
    "# Adapted by: Wallace Abreu\n",
    "# \n",
    "# shows short-time spectra of signal, starting\n",
    "# at k=start, with increments of STEP with N-point FFT\n",
    "# dynamic range from -baseplane in dB up to 20*log(clippingpoint)\n",
    "# in dB versus time axis"
   ]
  },
  {
   "cell_type": "code",
   "execution_count": 18,
   "metadata": {},
   "outputs": [],
   "source": [
    "import numpy as np\n",
    "import matplotlib.pyplot as plt\n",
    "from mpl_toolkits.mplot3d import Axes3D\n",
    "from mpl_toolkits.mplot3d.art3d import Poly3DCollection\n",
    "from matplotlib import colors as mcolors\n",
    "import matplotlib.ticker as ticker"
   ]
  },
  {
   "cell_type": "code",
   "execution_count": 47,
   "metadata": {},
   "outputs": [],
   "source": [
    "def waterfspec(signal, steps, start=0, N=1024, fs=48000, clippingpoint=0, baseplane=-100):\n",
    "    # Signal processing section\n",
    "    window = np.blackman(N)\n",
    "    window = window * N / sum(window)\n",
    "    n = len(signal)\n",
    "    rest = n - start - N\n",
    "    nos = int(np.round(rest / steps))\n",
    "    speks = np.zeros((nos, N + 1))\n",
    "    if nos > rest / steps:\n",
    "         nos = nos - 1\n",
    "    x = np.linspace(0, fs / 1000, N + 1)\n",
    "    z = np.zeros_like(x)\n",
    "    cup = z + clippingpoint\n",
    "    cdown = z + baseplane\n",
    "    signal = signal + 0.0000001\n",
    "    z_values = np.zeros((len(x), nos))\n",
    "    y = np.linspace(0, nos, nos)\n",
    "    for i in range(nos):\n",
    "        spek1 = 20 * np.log10(np.abs(np.fft.fft(window * signal[start + i * steps : start + N + i * steps])) / N / 0.5)\n",
    "        spek = np.concatenate(([-200], spek1[0 : N])).T\n",
    "        spek = (spek > cup.T) * cup.T + (spek <= cup.T) * spek\n",
    "        spek = (spek < cdown.T) * cdown.T + (spek >= cdown.T) * spek\n",
    "        spek[0] = baseplane - 10\n",
    "        spek[N//2 - 1] = baseplane - 10\n",
    "        z_values[:, i] = spek\n",
    "        speks[i, :] = spek\n",
    "\n",
    "    # Graphics section    \n",
    "\n",
    "    spec_len = N // 2\n",
    "\n",
    "    fig = plt.figure()\n",
    "\n",
    "    ax = fig.add_subplot(111, projection='3d')\n",
    "    x = list(range(spec_len))\n",
    "    for i in range(nos):\n",
    "        y = [i] * spec_len\n",
    "        z = speks[i, 0 : spec_len].tolist()\n",
    "        vertices = [list(zip(x, y, z))]\n",
    "\n",
    "        poly = Poly3DCollection(vertices, facecolors='w', linewidths=1, alpha=0.8)\n",
    "        poly.set_edgecolor('k')\n",
    "        ax.get_proj = lambda: np.dot(Axes3D.get_proj(ax), np.diag([1, 1.5, 0.5, 1]))\n",
    "        ax.add_collection3d(poly)\n",
    "\n",
    "    ax.add_collection3d(poly)\n",
    "\n",
    "    ax.set_xlim(0, spec_len)\n",
    "\n",
    "    ax.set_ylim(0, nos)\n",
    "\n",
    "    ax.set_zlim(np.min(speks), np.max(speks))\n",
    "\n",
    "    ax.xaxis.set_major_locator(plt.MaxNLocator(5))\n",
    "\n",
    "    xticks_list = [str(round(f, 1)) for f in np.linspace(0, fs / 2000, 5)]\n",
    "    ax.set_xticklabels(xticks_list)\n",
    "\n",
    "    ax.yaxis.set_major_locator(plt.MaxNLocator(8))\n",
    "\n",
    "    yticks_list = [n for n in np.arange(0, len(signal), 1000)]\n",
    "    ax.set_yticklabels(yticks_list)\n",
    "\n",
    "    ax.set_xlabel(r'f in kHz $\\to$')\n",
    "\n",
    "    ax.set_ylabel(r'n $\\longrightarrow$ ')\n",
    "\n",
    "    ax.set_zlabel(r'Magnitude in dB $\\to$')\n",
    "    "
   ]
  }
 ],
 "metadata": {
  "interpreter": {
   "hash": "14fccd6ca8a42415ebbb66f14e53d09781dd15bef1cfdc791a96b1fedaba8466"
  },
  "kernelspec": {
   "display_name": "Python 3.8.5 64-bit ('base': conda)",
   "language": "python",
   "name": "python3"
  },
  "language_info": {
   "codemirror_mode": {
    "name": "ipython",
    "version": 3
   },
   "file_extension": ".py",
   "mimetype": "text/x-python",
   "name": "python",
   "nbconvert_exporter": "python",
   "pygments_lexer": "ipython3",
   "version": "3.7.2"
  },
  "orig_nbformat": 4
 },
 "nbformat": 4,
 "nbformat_minor": 2
}
