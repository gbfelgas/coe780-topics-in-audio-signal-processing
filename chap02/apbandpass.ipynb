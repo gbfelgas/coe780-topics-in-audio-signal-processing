{
 "cells": [
  {
   "cell_type": "markdown",
   "id": "acc5e37b",
   "metadata": {},
   "source": [
    "### Libraries"
   ]
  },
  {
   "cell_type": "code",
   "execution_count": null,
   "id": "73f052c9",
   "metadata": {},
   "outputs": [],
   "source": [
    "import numpy as np\n",
    "import matplotlib.pyplot as plt\n",
    "import soundfile as sf\n",
    "import librosa.display\n",
    "import librosa\n",
    "\n",
    "from apbandpass import apbandpass"
   ]
  },
  {
   "cell_type": "markdown",
   "id": "26e273c2",
   "metadata": {},
   "source": [
    "### Frequency Response"
   ]
  },
  {
   "cell_type": "code",
   "execution_count": null,
   "id": "460dad56",
   "metadata": {
    "scrolled": false
   },
   "outputs": [],
   "source": [
    "sr = 1000000\n",
    "x = np.zeros(2*sr)\n",
    "x[0]=1\n",
    "fc = 500  # center freq\n",
    "fb = 10000 # band width\n",
    "y = apbandpass(x, 2*fc/sr, 2*fb/sr)\n",
    "fft_y = np.fft.rfft(y)\n",
    "fft_y_dB = librosa.amplitude_to_db(np.abs(fft_y), ref=np.max)\n",
    "f = np.linspace(0, fft_y_dB.size, fft_y_dB.size)\n",
    "\n",
    "limiter = sr/10\n",
    "\n",
    "min_index = int(limiter)\n",
    "fft_min = fft_y_dB[min_index]\n",
    "if int(fft_y_dB[1]) < fft_y_dB[min_index]: fft_min = int(fft_y_dB[1])\n",
    "\n",
    "fig, ax = plt.subplots(figsize=(16,8))\n",
    "ax.semilogx(f, fft_y_dB)\n",
    "plt.title(r\"Impulse Response\")\n",
    "plt.ylabel(r\"gain (dB) $\\rightarrow$\")\n",
    "plt.xlabel(r\"f $\\rightarrow$\")\n",
    "plt.xlim(1, limiter)\n",
    "plt.ylim(fft_min,10)\n",
    "ax.grid()"
   ]
  },
  {
   "cell_type": "markdown",
   "id": "e4803ea9",
   "metadata": {},
   "source": [
    "### Test"
   ]
  },
  {
   "cell_type": "code",
   "execution_count": null,
   "id": "b6357c7f",
   "metadata": {
    "scrolled": false
   },
   "outputs": [],
   "source": [
    "x, sr = librosa.load(\"./audios/deck_the_halls.wav\", 44100)\n",
    "\n",
    "x_max = x.max()\n",
    "x = x/x_max\n",
    "\n",
    "D_x = librosa.stft(x)  # STFT of x\n",
    "S_db_x = librosa.amplitude_to_db(np.abs(D_x), ref=np.max)\n",
    "\n",
    "fig, ax = plt.subplots(figsize=(16,8))\n",
    "img = librosa.display.specshow(S_db_x, x_axis='time', y_axis='linear', ax=ax)\n",
    "ax.set(title='Unfiltered Spectrogram')\n",
    "fig.colorbar(img, ax=ax, format=\"%+2.f dB\")\n",
    "\n",
    "fc = 15000\n",
    "fb = 200\n",
    "y = apbandpass(x, 2*fc/sr, 2*fb/sr)\n",
    "\n",
    "D_y = librosa.stft(y)  # STFT of y\n",
    "S_db_y = librosa.amplitude_to_db(np.abs(D_y), ref=np.max)\n",
    "\n",
    "fig, ax = plt.subplots(figsize=(16,8))\n",
    "img = librosa.display.specshow(S_db_y, x_axis='time', y_axis='linear', ax=ax)\n",
    "ax.set(title='Filtered Spectrogram')\n",
    "fig.colorbar(img, ax=ax, format=\"%+2.f dB\")\n",
    "\n",
    "sf.write(\"./audios/deck_the_halls_rewrite_AP_BAND.wav\", y*x_max, 44100, 'PCM_24')"
   ]
  },
  {
   "cell_type": "code",
   "execution_count": null,
   "id": "31795fb8",
   "metadata": {},
   "outputs": [],
   "source": []
  }
 ],
 "metadata": {
  "kernelspec": {
   "display_name": "Python 3 (ipykernel)",
   "language": "python",
   "name": "python3"
  },
  "language_info": {
   "codemirror_mode": {
    "name": "ipython",
    "version": 3
   },
   "file_extension": ".py",
   "mimetype": "text/x-python",
   "name": "python",
   "nbconvert_exporter": "python",
   "pygments_lexer": "ipython3",
   "version": "3.8.8"
  }
 },
 "nbformat": 4,
 "nbformat_minor": 5
}
