{
 "cells": [
  {
   "cell_type": "code",
   "execution_count": 44,
   "metadata": {},
   "outputs": [],
   "source": [
    "import numpy as np\n",
    "import matplotlib.pyplot as plt\n",
    "import soundfile as sf"
   ]
  },
  {
   "cell_type": "code",
   "execution_count": 72,
   "metadata": {},
   "outputs": [],
   "source": [
    "# Authors: P.Dutilleux, U. Z ̈olzer\n",
    "# Translator: Wallace Abreu\n",
    "# unit impulse signal of length 100\n",
    "x = np.zeros((100,1)) \n",
    "x[1] = 1 \n
    "g = 0.5\n",
    "b_0 = 0.5\n",
    "b_1 = 0.5\n",
    "a_1 = 0.7\n",
    "xhold = 0\n",
    "yhold = 0\n",
    "y = np.zeros((len(x), 1))\n",
    "yh = np.zeros((len(x), 1))\n",
    "delay = fs // 400\n",
    "# memory allocation for length 10\n",
    "Delayline = np.zeros((delay,1))\n",
    "for n in range(len(x)):\n",
    "    yh[n] = b_0 * Delayline[delay - 1] + b_1 * xhold - a_1 * yhold\n",
    "    # 1st-order difference equation\n",
    "    yhold = yh[n]\n",
    "    xhold = Delayline[delay - 1]\n",
    "    y[n] = x[n] + g * yh[n]\n",
    "    Delayline = np.concatenate((y[n].reshape(1, 1), Delayline[0 : delay - 1]))\n"
   ]
  },
  {
   "cell_type": "code",
   "execution_count": 73,
   "metadata": {},
   "outputs": [],
   "source": [
    "sf.write('LW_lpcomb_fs400.wav', y, fs)"
   ]
  },
  {
   "cell_type": "code",
   "execution_count": null,
   "metadata": {},
   "outputs": [],
   "source": []
  }
 ],
 "metadata": {
  "interpreter": {
   "hash": "7c446aa3ea0667ea9dd0428df5ce9f267c89a7f67d656e4ad6485b66eb129774"
  },
  "kernelspec": {
   "display_name": "Python 3.7.2 64-bit ('clone_base': conda)",
   "language": "python",
   "name": "python3"
  },
  "language_info": {
   "codemirror_mode": {
    "name": "ipython",
    "version": 3
   },
   "file_extension": ".py",
   "mimetype": "text/x-python",
   "name": "python",
   "nbconvert_exporter": "python",
   "pygments_lexer": "ipython3",
   "version": "3.7.2"
  },
  "orig_nbformat": 4
 },
 "nbformat": 4,
 "nbformat_minor": 2
}
