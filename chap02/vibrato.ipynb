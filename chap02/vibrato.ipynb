{
 "cells": [
  {
   "cell_type": "markdown",
   "id": "4df6632b",
   "metadata": {},
   "source": [
    "## Libraries"
   ]
  },
  {
   "cell_type": "code",
   "execution_count": null,
   "id": "ba34e99a",
   "metadata": {},
   "outputs": [],
   "source": [
    "from vibrato import vibrato\n",
    "import audiofile as af"
   ]
  },
  {
   "cell_type": "markdown",
   "id": "fcdb19cf",
   "metadata": {},
   "source": [
    "## Test routine"
   ]
  },
  {
   "cell_type": "code",
   "execution_count": null,
   "id": "ef300dc7",
   "metadata": {},
   "outputs": [],
   "source": [
    "wavFileName = 'audios\\exemplo.wav'                      # wav file path\n",
    "\n",
    "LFO = [1, 3, 5, 7, 10, 14, 17]                         # List of modulation frequencies to be tested\n",
    "width = [0.001, 0.003, 0.005, 0.007, 0.010, 0.015]     # List of modulation depths to be tested\n",
    "\n",
    "x, sr = af.read(wavFileName)             \n",
    "stdName = wavFileName.split('.wav')[0]\n",
    "\n",
    "for freq in LFO:\n",
    "    for wd in width:\n",
    "        y = vibrato(x, sr, freq, wd, 'linear')\n",
    "        af.write(stdName + '_F'+format(freq,\"02\")+'_W'+format(wd*1000,'02')+'.wav',y,sr,16)"
   ]
  }
 ],
 "metadata": {
  "kernelspec": {
   "display_name": "Python 3",
   "language": "python",
   "name": "python3"
  },
  "language_info": {
   "codemirror_mode": {
    "name": "ipython",
    "version": 3
   },
   "file_extension": ".py",
   "mimetype": "text/x-python",
   "name": "python",
   "nbconvert_exporter": "python",
   "pygments_lexer": "ipython3",
   "version": "3.8.11"
  }
 },
 "nbformat": 4,
 "nbformat_minor": 5
}
