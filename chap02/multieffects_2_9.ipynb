{
 "cells": [
  {
   "cell_type": "markdown",
   "id": "082376ce",
   "metadata": {},
   "source": [
    "## Libraries"
   ]
  },
  {
   "cell_type": "code",
   "execution_count": null,
   "id": "745c7210",
   "metadata": {},
   "outputs": [],
   "source": [
    "import audiofile as af\n",
    "from multieffects_2_9 import multieffects"
   ]
  },
  {
   "cell_type": "markdown",
   "id": "4e5e4615",
   "metadata": {},
   "source": [
    "## Parameters"
   ]
  },
  {
   "cell_type": "code",
   "execution_count": 1,
   "id": "f8d59a1d",
   "metadata": {},
   "outputs": [],
   "source": [
    "WaveFileTest = 'audios\\exemplo.wav'        # .wav file path\n",
    "NBits = 16                                 # # of bits to output file"
   ]
  },
  {
   "cell_type": "markdown",
   "id": "df07c116",
   "metadata": {},
   "source": [
    "    Effect   |  BL |  FF |  FB |  DELAY  |  DEPTH  |     MOD     |\n",
    "    ---------|-----|-----|-----|---------|---------|-------------|\n",
    "    Vibrato  |  0  |  1  |  0  |   0 ms  |  0-3 ms |0.1-5 Hz sine|\n",
    "    Flanger  | 0.7 | 0.7 | 0.7 |   0 ms  |  0-2 ms |0.1-1 Hz sine|\n",
    "    Chorus   | 0.7 |  1  |-0.7 | 1-30 ms | 1-30 ms |Lowpass noise|\n",
    "    Doubling | 0.7 | 0.7 |  0  |10-100 ms|1-100 ms |Lowpass noise|"
   ]
  },
  {
   "cell_type": "markdown",
   "id": "6f622ab1",
   "metadata": {},
   "source": [
    "## Test routine"
   ]
  },
  {
   "cell_type": "code",
   "execution_count": null,
   "id": "b031b0d4",
   "metadata": {},
   "outputs": [],
   "source": [
    "x, sr = af.read(WaveFileTest)\n",
    "fileStd = WaveFileTest.split('.wav')[0]"
   ]
  },
  {
   "cell_type": "markdown",
   "id": "2a61f59d",
   "metadata": {},
   "source": [
    "### Vibrato"
   ]
  },
  {
   "cell_type": "code",
   "execution_count": null,
   "id": "e7b485db",
   "metadata": {},
   "outputs": [],
   "source": [
    "depthValues = [0.001, 0.002, 0.003]\n",
    "modFrequencies = [0.1, 1, 3, 4, 5]\n",
    "for depth in depthValues:\n",
    "    for modFreq in modFrequencies:\n",
    "        delay = 0\n",
    "        y = multieffects(x, sr, 0, 1, 0, delay, depth, 'sine', modFreq, 'linear')\n",
    "        af.write(fileStd + '_vibrato_F'+ str(modFreq)+ '_D' + str(depth*1000) + '.wav', y,sr,NBits)"
   ]
  },
  {
   "cell_type": "markdown",
   "id": "1f4ab243",
   "metadata": {},
   "source": [
    "### Flanger"
   ]
  },
  {
   "cell_type": "code",
   "execution_count": null,
   "id": "10479102",
   "metadata": {},
   "outputs": [],
   "source": [
    "depthValues = [0.001, 0.0015, 0.002]\n",
    "modFrequencies = [0.1, 0.25, 0.5, 0.75, 1]\n",
    "for depth in depthValues:\n",
    "    for modFreq in modFrequencies:\n",
    "        delay = 0\n",
    "        y = multieffects(x, sr, 0.7, 0.7, 0.7, delay, depth, 'sine', modFreq, 'linear')\n",
    "        af.write(fileStd + '_flanger_F'+ str(modFreq)+ '_D' + str(depth*1000) + '.wav', y,sr,NBits)"
   ]
  },
  {
   "cell_type": "markdown",
   "id": "af8bb07f",
   "metadata": {},
   "source": [
    "### Chorus"
   ]
  },
  {
   "cell_type": "code",
   "execution_count": null,
   "id": "87c7cc30",
   "metadata": {},
   "outputs": [],
   "source": [
    "depthValues = [0.001, 0.010, 0.015, 0.030, 0.060]\n",
    "modFrequencies = [1000, 5000, 10000]\n",
    "delayValues = [0.001, 0.010, 0.015, 0.030, 0.060]\n",
    "for depth in depthValues:\n",
    "    for modFreq in modFrequencies:\n",
    "        for delay in delayValues:\n",
    "            y = multieffects(x, sr, 0.7, 1, -0.7, delay, depth, 'noise', modFreq, 'linear')\n",
    "            af.write(fileStd + '_chorus_Fc'+ str(modFreq/1000)+ '_D' + str(depth*1000) + '_DL' + str(delay*1000) + '.wav', y, sr, NBits)"
   ]
  },
  {
   "cell_type": "markdown",
   "id": "94643d90",
   "metadata": {},
   "source": [
    "### Doubling"
   ]
  },
  {
   "cell_type": "code",
   "execution_count": null,
   "id": "84250e13",
   "metadata": {},
   "outputs": [],
   "source": [
    "depthValues = [0.001, 0.025, 0.050, 0.075, 0.100]\n",
    "modFrequencies = [1000, 5000, 10000]\n",
    "delayValues = [0.010, 0.035, 0.060, 0.085, 0.100]\n",
    "for depth in depthValues:\n",
    "    for modFreq in modFrequencies:\n",
    "        for delay in delayValues:\n",
    "            y = multieffects(x, sr, 0.7, 0.7, 0, delay, depth, 'noise', modFreq, 'linear')\n",
    "            af.write(fileStd + '_doubling_Fc'+ str(modFreq/1000)+ '_D' + str(depth*1000) + '_DL' + str(delay*1000) + '.wav', y, sr, NBits)"
   ]
  }
 ],
 "metadata": {
  "kernelspec": {
   "display_name": "Python 3",
   "language": "python",
   "name": "python3"
  },
  "language_info": {
   "codemirror_mode": {
    "name": "ipython",
    "version": 3
   },
   "file_extension": ".py",
   "mimetype": "text/x-python",
   "name": "python",
   "nbconvert_exporter": "python",
   "pygments_lexer": "ipython3",
   "version": "3.8.11"
  }
 },
 "nbformat": 4,
 "nbformat_minor": 5
}
