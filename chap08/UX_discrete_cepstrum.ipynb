{
 "cells": [
  {
   "cell_type": "code",
   "execution_count": 3,
   "metadata": {},
   "outputs": [],
   "source": [
    "import numpy as np\n",
    "import soundfile as sf\n",
    "from UX_discrete_cepstrum import discrete_cepstrum_basic, discrete_cepstrum_reg"
   ]
  },
  {
   "cell_type": "code",
   "execution_count": 4,
   "metadata": {},
   "outputs": [],
   "source": [
    "x, fs = sf.read('la.wav')"
   ]
  },
  {
   "cell_type": "code",
   "execution_count": 9,
   "metadata": {},
   "outputs": [
    {
     "name": "stderr",
     "output_type": "stream",
     "text": [
      "/var/folders/lt/md23qtts5nxbd89hcfsdkqdh0000gn/T/ipykernel_41146/557765051.py:13: DeprecationWarning: `np.complex` is a deprecated alias for the builtin `complex`. To silence this warning, use `complex` by itself. Doing this will not modify any behavior and is safe. If you specifically wanted the numpy scalar type, use `np.complex128` here.\n",
      "Deprecated in NumPy 1.20; for more details and guidance: https://numpy.org/devdocs/release/1.20.0-notes.html#deprecations\n",
      "  fftbuffer = np.zeros(N, np.complex) # initialize buffer for FFT\n"
     ]
    },
    {
     "ename": "LinAlgError",
     "evalue": "Singular matrix",
     "output_type": "error",
     "traceback": [
      "\u001b[0;31m---------------------------------------------------------------------------\u001b[0m",
      "\u001b[0;31mLinAlgError\u001b[0m                               Traceback (most recent call last)",
      "\u001b[1;32m/Users/bernardo/Desktop/COE780/chap08/UX_discrete_cepstrum.ipynb Cell 3'\u001b[0m in \u001b[0;36m<module>\u001b[0;34m\u001b[0m\n\u001b[1;32m     <a href='vscode-notebook-cell:/Users/bernardo/Desktop/COE780/chap08/UX_discrete_cepstrum.ipynb#ch0000002?line=29'>30</a>\u001b[0m pphase \u001b[39m=\u001b[39m pX[ploc] \u001b[39m# phase of peaks\u001b[39;00m\n\u001b[1;32m     <a href='vscode-notebook-cell:/Users/bernardo/Desktop/COE780/chap08/UX_discrete_cepstrum.ipynb#ch0000002?line=30'>31</a>\u001b[0m \u001b[39m# c = discrete_cepstrum_basic(ploc, pmag, 20)\u001b[39;00m\n\u001b[0;32m---> <a href='vscode-notebook-cell:/Users/bernardo/Desktop/COE780/chap08/UX_discrete_cepstrum.ipynb#ch0000002?line=31'>32</a>\u001b[0m c \u001b[39m=\u001b[39m discrete_cepstrum_reg(ploc, pmag, \u001b[39m10\u001b[39;49m, \u001b[39m0.9\u001b[39;49m)\n\u001b[1;32m     <a href='vscode-notebook-cell:/Users/bernardo/Desktop/COE780/chap08/UX_discrete_cepstrum.ipynb#ch0000002?line=32'>33</a>\u001b[0m \u001b[39m#-----synthesis-----\u001b[39;00m\n\u001b[1;32m     <a href='vscode-notebook-cell:/Users/bernardo/Desktop/COE780/chap08/UX_discrete_cepstrum.ipynb#ch0000002?line=33'>34</a>\u001b[0m Y \u001b[39m=\u001b[39m np\u001b[39m.\u001b[39mzeros(N, np\u001b[39m.\u001b[39mcomplex) \u001b[39m# initialize output spectrum\u001b[39;00m\n",
      "File \u001b[0;32m~/Desktop/COE780/chap08/UX_discrete_cepstrum.py:46\u001b[0m, in \u001b[0;36mdiscrete_cepstrum_reg\u001b[0;34m(F, A, order, laambda)\u001b[0m\n\u001b[1;32m     <a href='file:///~/Desktop/COE780/chap08/UX_discrete_cepstrum.py?line=43'>44</a>\u001b[0m Mt \u001b[39m=\u001b[39m np\u001b[39m.\u001b[39mtranspose(M)\n\u001b[1;32m     <a href='file:///~/Desktop/COE780/chap08/UX_discrete_cepstrum.py?line=44'>45</a>\u001b[0m MtMR \u001b[39m=\u001b[39m np\u001b[39m.\u001b[39mmatmul(Mt,M) \u001b[39m+\u001b[39m (laambda\u001b[39m/\u001b[39m(\u001b[39m1\u001b[39m\u001b[39m-\u001b[39mlaambda))\u001b[39m*\u001b[39mnp\u001b[39m.\u001b[39mdiag(R)\n\u001b[0;32m---> <a href='file:///~/Desktop/COE780/chap08/UX_discrete_cepstrum.py?line=45'>46</a>\u001b[0m cep \u001b[39m=\u001b[39m np\u001b[39m.\u001b[39mmatmul(np\u001b[39m.\u001b[39;49mlinalg\u001b[39m.\u001b[39;49minv(MtMR) , np\u001b[39m.\u001b[39mmatmul(Mt,np\u001b[39m.\u001b[39mlog10(A)))\n\u001b[1;32m     <a href='file:///~/Desktop/COE780/chap08/UX_discrete_cepstrum.py?line=47'>48</a>\u001b[0m \u001b[39mreturn\u001b[39;00m cep\n",
      "File \u001b[0;32m<__array_function__ internals>:5\u001b[0m, in \u001b[0;36minv\u001b[0;34m(*args, **kwargs)\u001b[0m\n",
      "File \u001b[0;32m~/Desktop/COE780/venv/lib/python3.8/site-packages/numpy/linalg/linalg.py:545\u001b[0m, in \u001b[0;36minv\u001b[0;34m(a)\u001b[0m\n\u001b[1;32m    <a href='file:///~/Desktop/COE780/venv/lib/python3.8/site-packages/numpy/linalg/linalg.py?line=542'>543</a>\u001b[0m signature \u001b[39m=\u001b[39m \u001b[39m'\u001b[39m\u001b[39mD->D\u001b[39m\u001b[39m'\u001b[39m \u001b[39mif\u001b[39;00m isComplexType(t) \u001b[39melse\u001b[39;00m \u001b[39m'\u001b[39m\u001b[39md->d\u001b[39m\u001b[39m'\u001b[39m\n\u001b[1;32m    <a href='file:///~/Desktop/COE780/venv/lib/python3.8/site-packages/numpy/linalg/linalg.py?line=543'>544</a>\u001b[0m extobj \u001b[39m=\u001b[39m get_linalg_error_extobj(_raise_linalgerror_singular)\n\u001b[0;32m--> <a href='file:///~/Desktop/COE780/venv/lib/python3.8/site-packages/numpy/linalg/linalg.py?line=544'>545</a>\u001b[0m ainv \u001b[39m=\u001b[39m _umath_linalg\u001b[39m.\u001b[39;49minv(a, signature\u001b[39m=\u001b[39;49msignature, extobj\u001b[39m=\u001b[39;49mextobj)\n\u001b[1;32m    <a href='file:///~/Desktop/COE780/venv/lib/python3.8/site-packages/numpy/linalg/linalg.py?line=545'>546</a>\u001b[0m \u001b[39mreturn\u001b[39;00m wrap(ainv\u001b[39m.\u001b[39mastype(result_t, copy\u001b[39m=\u001b[39m\u001b[39mFalse\u001b[39;00m))\n",
      "File \u001b[0;32m~/Desktop/COE780/venv/lib/python3.8/site-packages/numpy/linalg/linalg.py:88\u001b[0m, in \u001b[0;36m_raise_linalgerror_singular\u001b[0;34m(err, flag)\u001b[0m\n\u001b[1;32m     <a href='file:///~/Desktop/COE780/venv/lib/python3.8/site-packages/numpy/linalg/linalg.py?line=86'>87</a>\u001b[0m \u001b[39mdef\u001b[39;00m \u001b[39m_raise_linalgerror_singular\u001b[39m(err, flag):\n\u001b[0;32m---> <a href='file:///~/Desktop/COE780/venv/lib/python3.8/site-packages/numpy/linalg/linalg.py?line=87'>88</a>\u001b[0m     \u001b[39mraise\u001b[39;00m LinAlgError(\u001b[39m\"\u001b[39m\u001b[39mSingular matrix\u001b[39m\u001b[39m\"\u001b[39m)\n",
      "\u001b[0;31mLinAlgError\u001b[0m: Singular matrix"
     ]
    }
   ],
   "source": [
    "w = np.hanning(2049)\n",
    "N = 2048\n",
    "H = 512\n",
    "t = -50\n",
    "c = np.zeros(10)\n",
    "\n",
    "M = w.size # analysis window size\n",
    "N2 = N // 2 + 1 # size of positive spectrum\n",
    "soundlength = x.size # length of input sound array\n",
    "hM = int((M - 1) / 2) # half analysis window size\n",
    "pin = hM # initialize sound pointer in middle of analysis window\n",
    "pend = soundlength - hM # last sample to start a frame\n",
    "fftbuffer = np.zeros(N, np.complex) # initialize buffer for FFT\n",
    "yw = np.zeros(M) # initialize output sound frame\n",
    "y = np.zeros(soundlength) # initialize output array\n",
    "w /= w.sum() # normalize analysis window\n",
    "sw = np.hanning(M) # synthesis window\n",
    "sw /= sw.sum()\n",
    "while pin < pend:\n",
    "    #-----analysis-----\n",
    "    xw = x[pin - hM : pin + hM + 1] * w # window the input sound\n",
    "    fftbuffer[:] = 0 # reset buffer\n",
    "    fftbuffer[0 : int((M + 1) / 2)] = xw[int((M - 1) / 2) : M] # zero-phase window in fftbuffer\n",
    "    fftbuffer[N - (M - 1) // 2 : N] = xw[0 : (M - 1) // 2]\n",
    "    X = np.fft.fft(fftbuffer)\n",
    "    mX = 20 * np.log10(np.finfo(float).eps + np.abs(X[0:N2]))\n",
    "    pX = np.unwrap(np.angle(X[0:N2])) # unwrapped phase spect. of positive freq.\n",
    "    ploc = np.argwhere((mX[1 : N2 - 1] > t).astype(int) * (mX[1:N2-1] > mX[2:N2]).astype(int) * (mX[1:N2-1] > mX[0:N2-2]).astype(int)) # peaks\n",
    "    pmag = mX[ploc] # magnitude of peaks\n",
    "    pphase = pX[ploc] # phase of peaks\n",
    "    # c = discrete_cepstrum_basic(ploc, pmag, 20)\n",
    "    c = discrete_cepstrum_reg(ploc, pmag, 10, 0.9)\n",
    "    #-----synthesis-----\n",
    "    Y = np.zeros(N, np.complex) # initialize output spectrum\n",
    "    Y[ploc] = 10 ** (pmag / 20) * np.exp(1j * pphase) # generate positive freq.\n",
    "    Y[N - 1 - ploc] = 10 ** (pmag / 20) * np.exp(-1j * pphase) # generate negative freq.\n",
    "    # generate neg.freq.\n",
    "    fftbuffer = np.real(np.fft.ifft(Y)) # inverse FFT\n",
    "    yw[0 : (M - 1) // 2] = fftbuffer[N - (M - 1) // 2 : N] # undo zero-phase window\n",
    "    yw[(M - 1) // 2 : M] = fftbuffer[0 : (M + 1) // 2]\n",
    "    y[pin - hM : pin + hM + 1] = y[pin - hM : pin + hM + 1] + H * N * sw * yw[0:M] # overlap-add\n",
    "    pin = pin + H # advance sound pointer"
   ]
  }
 ],
 "metadata": {
  "interpreter": {
   "hash": "e3cbd758ea8854bf09ab64d2fd7e888f428cf9bf680249bdf191863be172b745"
  },
  "kernelspec": {
   "display_name": "Python 3.8.0 ('venv': venv)",
   "language": "python",
   "name": "python3"
  },
  "language_info": {
   "codemirror_mode": {
    "name": "ipython",
    "version": 3
   },
   "file_extension": ".py",
   "mimetype": "text/x-python",
   "name": "python",
   "nbconvert_exporter": "python",
   "pygments_lexer": "ipython3",
   "version": "3.8.0"
  },
  "orig_nbformat": 4
 },
 "nbformat": 4,
 "nbformat_minor": 2
}
