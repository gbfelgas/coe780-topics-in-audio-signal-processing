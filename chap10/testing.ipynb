{
 "cells": [
  {
   "cell_type": "code",
   "execution_count": 1,
   "id": "b5487775",
   "metadata": {},
   "outputs": [],
   "source": [
    "import numpy as np\n",
    "import matplotlib.pyplot as plt\n",
    "import soundfile as sf\n",
    "from scipy import signal\n",
    "\n",
    "from f0detectionyin_gabi import f0detectionyin\n",
    "from sinemodel import sinemodel\n",
    "from harmonicmodel_gabi import harmonicmodel"
   ]
  },
  {
   "cell_type": "code",
   "execution_count": 2,
   "id": "6eb239ca",
   "metadata": {},
   "outputs": [],
   "source": [
    "N = 1024\n",
    "t = -60\n",
    "nH = 20\n",
    "minf0 = 10\n",
    "maxf0 = 4096\n",
    "f0et = 5\n",
    "maxhd = 2\n",
    "filename = 'violin-B3'\n",
    "DAFx_in, fs = sf.read(f'audios/{filename}.wav')\n",
    "window = signal.windows.hann(N, sym=False)"
   ]
  },
  {
   "cell_type": "code",
   "execution_count": 3,
   "id": "155fec0e",
   "metadata": {},
   "outputs": [],
   "source": [
    "# DAFx_out_sinemodel = sinemodel(DAFx_in, window, N, t)\n",
    "# sf.write(f'audios/{filename}_sinemodel.wav', DAFx_out_sinemodel, fs)"
   ]
  },
  {
   "cell_type": "code",
   "execution_count": 4,
   "id": "3b5a3a82",
   "metadata": {},
   "outputs": [],
   "source": [
    "# plt.figure(figsize=(10, 6))\n",
    "# # plt.subplot(121)\n",
    "# plt.plot(DAFx_in)\n",
    "# # plt.subplot(122)\n",
    "# plt.plot(DAFx_out_sinemodel)\n",
    "# plt.tight_layout()"
   ]
  },
  {
   "cell_type": "code",
   "execution_count": 5,
   "id": "d51d6793",
   "metadata": {},
   "outputs": [
    {
     "name": "stdout",
     "output_type": "stream",
     "text": [
      "hloc[:hi] + 1: [ 5.71424555 11.3173887  16.87195287 22.63255484 28.4807419  34.5421464\n",
      " 44.11908339  0.         54.33742507 55.69710824 61.86212165 67.44881334\n",
      " 72.90542485 79.17392838 84.6360956  90.24266051  0.          0.\n",
      "  0.          0.        ]\n",
      "Yh: [ 0.00000000e+00+0.00000000e+00j  0.00000000e+00+0.00000000e+00j\n",
      " -6.71656898e-06-3.22374109e-07j ... -6.13825241e-04+2.94616739e-05j\n",
      " -6.71656898e-06+3.22374109e-07j  0.00000000e+00-0.00000000e+00j]\n"
     ]
    }
   ],
   "source": [
    "DAFx_out_harmonicmodel = harmonicmodel(DAFx_in, fs, window, N, t, nH, minf0, maxf0, f0et, maxhd)\n",
    "sf.write(f'audios/{filename}_harmonicmodel.wav', DAFx_out_harmonicmodel, fs)"
   ]
  },
  {
   "cell_type": "code",
   "execution_count": 6,
   "id": "6b3a3eba",
   "metadata": {},
   "outputs": [],
   "source": [
    "# plt.figure(figsize=(10, 6))\n",
    "# # plt.subplot(121)\n",
    "# plt.plot(DAFx_in)\n",
    "# # plt.subplot(122)\n",
    "# plt.plot(DAFx_out_harmonicmodel)\n",
    "# plt.tight_layout()"
   ]
  }
 ],
 "metadata": {
  "kernelspec": {
   "display_name": "Python 3 (ipykernel)",
   "language": "python",
   "name": "python3"
  },
  "language_info": {
   "codemirror_mode": {
    "name": "ipython",
    "version": 3
   },
   "file_extension": ".py",
   "mimetype": "text/x-python",
   "name": "python",
   "nbconvert_exporter": "python",
   "pygments_lexer": "ipython3",
   "version": "3.9.7"
  }
 },
 "nbformat": 4,
 "nbformat_minor": 5
}
