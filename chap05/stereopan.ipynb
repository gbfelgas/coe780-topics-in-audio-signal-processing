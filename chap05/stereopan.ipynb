{
 "cells": [
  {
   "cell_type": "code",
   "execution_count": 1,
   "metadata": {},
   "outputs": [],
   "source": [
    "import numpy as np\n",
    "import soundfile as sf\n",
    "import sounddevice as sd"
   ]
  },
  {
   "cell_type": "markdown",
   "metadata": {},
   "source": [
    "## Parameters"
   ]
  },
  {
   "cell_type": "code",
   "execution_count": 19,
   "metadata": {},
   "outputs": [],
   "source": [
    "Fs=44100;\n",
    "\n",
    "theta = -20; # Panning direction\n",
    "lsbase = 30; # Half of opening angle of loudspeaker pair"
   ]
  },
  {
   "cell_type": "markdown",
   "metadata": {},
   "source": [
    "## Code"
   ]
  },
  {
   "cell_type": "code",
   "execution_count": 20,
   "metadata": {},
   "outputs": [],
   "source": [
    "# Moving to radians\n",
    "theta=theta/180*np.pi;\n",
    "lsbase=lsbase/180*np.pi;\n",
    "\n",
    "# Computing gain factors with tangent law\n",
    "g = np.zeros(2)\n",
    "g[1] = 1; # initial value has to be one\n",
    "g[0] = - (np.tan(theta)-np.tan(lsbase)) / (np.tan(theta)+np.tan(lsbase)+np.finfo(float).eps);\n",
    "\n",
    "# Normalizing the sum-of-squares\n",
    "g = g/np.sqrt(np.sum(g**2));\n",
    "\n",
    "# Signal to be panned (Sawtooth wave)\n",
    "signal = np.mod(np.arange(20000),200)/200;\n",
    "           \n",
    "# Actual panning\n",
    "stereo_sig = np.transpose(np.array([signal,signal]))\n",
    "loudsp_sig = np.multiply(stereo_sig,g);\n",
    "           "
   ]
  },
  {
   "cell_type": "markdown",
   "metadata": {},
   "source": [
    "## Audio"
   ]
  },
  {
   "cell_type": "code",
   "execution_count": 21,
   "metadata": {},
   "outputs": [],
   "source": [
    "# Play audio out with two loudspeakers\n",
    "\n",
    "sd.play(loudsp_sig,Fs);"
   ]
  },
  {
   "cell_type": "code",
   "execution_count": null,
   "metadata": {},
   "outputs": [],
   "source": []
  }
 ],
 "metadata": {
  "kernelspec": {
   "display_name": "Python 3",
   "language": "python",
   "name": "python3"
  },
  "language_info": {
   "codemirror_mode": {
    "name": "ipython",
    "version": 3
   },
   "file_extension": ".py",
   "mimetype": "text/x-python",
   "name": "python",
   "nbconvert_exporter": "python",
   "pygments_lexer": "ipython3",
   "version": "3.7.4"
  }
 },
 "nbformat": 4,
 "nbformat_minor": 2
}
