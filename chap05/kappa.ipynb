{
 "cells": [
  {
   "cell_type": "markdown",
   "metadata": {},
   "source": [
    "### Libraries"
   ]
  },
  {
   "cell_type": "code",
   "execution_count": 3,
   "metadata": {
    "scrolled": true
   },
   "outputs": [],
   "source": [
    "import numpy as np\n",
    "import soundfile as sf\n",
    "import librosa"
   ]
  },
  {
   "cell_type": "markdown",
   "metadata": {},
   "source": [
    "### Decoding of B-format signals (placing virtual microphones)"
   ]
  },
  {
   "cell_type": "code",
   "execution_count": null,
   "metadata": {
    "scrolled": false
   },
   "outputs": [],
   "source": [
    "# kappa.m\n",
    "# Author: V. Pulkki, T. Lokki\n",
    "# Simple example of cardioid decoding of B-format signals\n",
    "#\n",
    "#--------------------------------------------------------------------------\n",
    "# This source code is provided without any warranties as published in \n",
    "# DAFX book 2nd edition, copyright Wiley & Sons 2011, available at \n",
    "# http://www.dafx.de. It may be used for educational purposes and not \n",
    "# for commercial applications without further permission.\n",
    "#--------------------------------------------------------------------------\n",
    "\n",
    "pi = np.pi\n",
    "# mono signal\n",
    "signal, Fs = librosa.load('doorbell-sound-effect.wav',sr=None)\n",
    "# Simulated horizontal-only B-format recording of single \n",
    "# sound source in direction of theta azimuth.\n",
    "# This can be replaced with a real B-format recording. \n",
    "theta=30\n",
    "w = signal/(2**(1/2))\n",
    "x = signal*np.cos(theta/180*pi)\n",
    "y = signal*np.sin(theta/180*pi)\n",
    "# Virtual microphone directions \n",
    "# (In many cases the values equal to the directions of loudspeakers)\n",
    "ls_dir = np.array([30, 90, 150, -150, -90, -30])\n",
    "ls_dir = ls_dir/180\n",
    "ls_dir = ls_dir*pi\n",
    "ls_num = ls_dir.size\n",
    "# Compute virtual cardioids (kappa = 1) out of the B-format signal\n",
    "kappa=1\n",
    "LSsignal = np.zeros((signal.size, ls_num))\n",
    "for i in range(ls_num):\n",
    "    LSsignal[:,i] = (2-kappa)/2*w + kappa/(2*(2**(1/2)))*(np.cos(ls_dir[i])*x+np.sin(ls_dir[i])*y)\n",
    "    \n",
    "# File output\n",
    "sf.write('firstorderB-formatexample.wav',LSsignal,Fs,'PCM_16')"
   ]
  },
  {
   "cell_type": "code",
   "execution_count": 4,
   "metadata": {},
   "outputs": [
    {
     "name": "stdout",
     "output_type": "stream",
     "text": [
      "[[0 1 5]\n",
      " [1 2 5]\n",
      " [2 3 6]\n",
      " [3 4 7]\n",
      " [4 0 7]\n",
      " [0 5 7]\n",
      " [2 5 6]\n",
      " [3 6 7]\n",
      " [5 6 7]]\n"
     ]
    }
   ],
   "source": [
    "print(np.array([[1, 2, 6], [2, 3, 6], [3, 4, 7], [4, 5, 8], [5, 1, 8], [1, 6, 8], [3, 6, 7], [4, 7, 8], [6, 7, 8]])- 1)"
   ]
  },
  {
   "cell_type": "code",
   "execution_count": null,
   "metadata": {},
   "outputs": [],
   "source": []
  }
 ],
 "metadata": {
  "kernelspec": {
   "display_name": "Python 3",
   "language": "python",
   "name": "python3"
  },
  "language_info": {
   "codemirror_mode": {
    "name": "ipython",
    "version": 3
   },
   "file_extension": ".py",
   "mimetype": "text/x-python",
   "name": "python",
   "nbconvert_exporter": "python",
   "pygments_lexer": "ipython3",
   "version": "3.8.5"
  }
 },
 "nbformat": 4,
 "nbformat_minor": 4
}
