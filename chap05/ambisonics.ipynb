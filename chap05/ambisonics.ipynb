{
 "cells": [
  {
   "cell_type": "code",
   "execution_count": 1,
   "metadata": {
    "_cell_guid": "b1076dfc-b9ad-4769-8c92-a6c4dae69d19",
    "_uuid": "8f2839f25d086af736a60e9eeb907d3b93b6e0e5",
    "execution": {
     "iopub.execute_input": "2021-12-21T18:01:41.134018Z",
     "iopub.status.busy": "2021-12-21T18:01:41.133567Z",
     "iopub.status.idle": "2021-12-21T18:01:41.159158Z",
     "shell.execute_reply": "2021-12-21T18:01:41.15836Z",
     "shell.execute_reply.started": "2021-12-21T18:01:41.133911Z"
    }
   },
   "outputs": [],
   "source": [
    "import numpy as np\n",
    "import soundfile as sf\n",
    "import librosa"
   ]
  },
  {
   "cell_type": "code",
   "execution_count": 2,
   "metadata": {},
   "outputs": [],
   "source": [
    "def get_ambisonics_harmonic_gains(theta: int, ls_setup: np.ndarray):\n",
    "    ls_setup = ls_setup / 180 * np.pi\n",
    "    theta = theta / 180 * np.pi\n",
    "    harmC = np.array([1, 2/3, 1/6])\n",
    "    \n",
    "\n",
    "    return harmC[0] + 2 * harmC[1] * np.cos(theta - ls_setup) + 2 * harmC[2] * np.cos(2 * (theta - ls_setup))"
   ]
  },
  {
   "cell_type": "code",
   "execution_count": 3,
   "metadata": {
    "execution": {
     "iopub.execute_input": "2021-12-21T18:02:09.799417Z",
     "iopub.status.busy": "2021-12-21T18:02:09.798706Z",
     "iopub.status.idle": "2021-12-21T18:02:09.808137Z",
     "shell.execute_reply": "2021-12-21T18:02:09.807148Z",
     "shell.execute_reply.started": "2021-12-21T18:02:09.799377Z"
    }
   },
   "outputs": [],
   "source": [
    "theta = 110\n",
    "ls_setup = np.array([30, -30, -90, -150, 150, 90])"
   ]
  },
  {
   "cell_type": "code",
   "execution_count": 4,
   "metadata": {},
   "outputs": [
    {
     "data": {
      "text/plain": [
       "[(30, 0.9183000299606042),\n",
       " (-30, 0.03649013506367278),\n",
       " (-90, 0.002424653325114934),\n",
       " (-150, 0.4552382228487901),\n",
       " (150, 2.0792753167142806),\n",
       " (90, 2.508271642087537)]"
      ]
     },
     "execution_count": 4,
     "metadata": {},
     "output_type": "execute_result"
    }
   ],
   "source": [
    "g = get_ambisonics_harmonic_gains(theta, ls_setup)\n",
    "list(zip(ls_setup, g))"
   ]
  },
  {
   "cell_type": "code",
   "execution_count": 5,
   "metadata": {},
   "outputs": [],
   "source": [
    "x, fs = librosa.load('audios/doorbell.wav', sr=None)"
   ]
  },
  {
   "cell_type": "code",
   "execution_count": 6,
   "metadata": {},
   "outputs": [],
   "source": [
    "x_amb = np.matmul(x.reshape(-1, 1), g.reshape(1, -1))\n",
    "sf.write(f'audios/ambisonics_doorbell_out_{theta}.wav', x_amb, fs, 'PCM_16')"
   ]
  }
 ],
 "metadata": {
  "kernelspec": {
   "display_name": "Python 3 (ipykernel)",
   "language": "python",
   "name": "python3"
  },
  "language_info": {
   "codemirror_mode": {
    "name": "ipython",
    "version": 3
   },
   "file_extension": ".py",
   "mimetype": "text/x-python",
   "name": "python",
   "nbconvert_exporter": "python",
   "pygments_lexer": "ipython3",
   "version": "3.9.7"
  }
 },
 "nbformat": 4,
 "nbformat_minor": 4
}
