{
 "cells": [
  {
   "cell_type": "code",
   "execution_count": 1,
   "metadata": {
    "_cell_guid": "b1076dfc-b9ad-4769-8c92-a6c4dae69d19",
    "_uuid": "8f2839f25d086af736a60e9eeb907d3b93b6e0e5",
    "execution": {
     "iopub.execute_input": "2021-12-21T18:01:41.134018Z",
     "iopub.status.busy": "2021-12-21T18:01:41.133567Z",
     "iopub.status.idle": "2021-12-21T18:01:41.159158Z",
     "shell.execute_reply": "2021-12-21T18:01:41.15836Z",
     "shell.execute_reply.started": "2021-12-21T18:01:41.133911Z"
    }
   },
   "outputs": [],
   "source": [
    "import numpy as np"
   ]
  },
  {
   "cell_type": "code",
   "execution_count": 2,
   "metadata": {},
   "outputs": [],
   "source": [
    "def get_ambisonics_harmonic_gains(theta: int, ls_setup: np.ndarray):\n",
    "    ls_setup = ls_setup / 180 * np.pi\n",
    "    theta = theta / 180 * np.pi\n",
    "    harmC = np.array([1, 2/3, 1/6])\n",
    "\n",
    "    return harmC[0] + 2 * np.cos(theta - ls_setup) * harmC[1] + 2 * np.cos(2 * (theta - ls_setup)) * harmC[2]"
   ]
  },
  {
   "cell_type": "code",
   "execution_count": 3,
   "metadata": {
    "execution": {
     "iopub.execute_input": "2021-12-21T18:02:09.799417Z",
     "iopub.status.busy": "2021-12-21T18:02:09.798706Z",
     "iopub.status.idle": "2021-12-21T18:02:09.808137Z",
     "shell.execute_reply": "2021-12-21T18:02:09.807148Z",
     "shell.execute_reply.started": "2021-12-21T18:02:09.799377Z"
    }
   },
   "outputs": [],
   "source": [
    "theta = 30\n",
    "ls_setup = np.array([30, -30, -90, -150, 150, 90])\n",
    "g = get_ambisonics_harmonic_gains(theta, ls_setup)"
   ]
  },
  {
   "cell_type": "code",
   "execution_count": 4,
   "metadata": {},
   "outputs": [
    {
     "data": {
      "text/plain": [
       "array([2.66666667e+00, 1.50000000e+00, 1.66666667e-01, 5.55111512e-17,\n",
       "       1.66666667e-01, 1.50000000e+00])"
      ]
     },
     "execution_count": 4,
     "metadata": {},
     "output_type": "execute_result"
    }
   ],
   "source": [
    "g"
   ]
  }
 ],
 "metadata": {
  "kernelspec": {
   "display_name": "Python 3 (ipykernel)",
   "language": "python",
   "name": "python3"
  },
  "language_info": {
   "codemirror_mode": {
    "name": "ipython",
    "version": 3
   },
   "file_extension": ".py",
   "mimetype": "text/x-python",
   "name": "python",
   "nbconvert_exporter": "python",
   "pygments_lexer": "ipython3",
   "version": "3.9.7"
  }
 },
 "nbformat": 4,
 "nbformat_minor": 4
}
